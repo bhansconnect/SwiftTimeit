{
 "cells": [
  {
   "cell_type": "code",
   "execution_count": 1,
   "metadata": {},
   "outputs": [
    {
     "name": "stdout",
     "output_type": "stream",
     "text": [
      "Installing packages:\n",
      "\t.package(url: \"https://github.com/bhansconnect/SwiftTimeit\", from: \"1.0.0\")\n",
      "\t\tSwiftTimeit\n",
      "With SwiftPM flags: []\n",
      "Working in: /tmp/tmpwpvswd_q/swift-install\n",
      "Fetching https://github.com/bhansconnect/SwiftTimeit\n",
      "Completed resolution in 0.61s\n",
      "Cloning https://github.com/bhansconnect/SwiftTimeit\n",
      "Resolving https://github.com/bhansconnect/SwiftTimeit at 1.0.0\n",
      "[1/2] Compiling SwiftTimeit SwiftTimeit.swift\n",
      "[2/3] Merging module SwiftTimeit\n",
      "[3/4] Compiling jupyterInstalledPackages jupyterInstalledPackages.swift\n",
      "[4/5] Merging module jupyterInstalledPackages\n",
      "[5/5] Linking libjupyterInstalledPackages.so\n",
      "Initializing Swift...\n",
      "Installation complete!\n"
     ]
    }
   ],
   "source": [
    "%install '.package(url: \"https://github.com/bhansconnect/SwiftTimeit\", from: \"1.0.0\")' SwiftTimeit\n",
    "import SwiftTimeit"
   ]
  },
  {
   "cell_type": "markdown",
   "metadata": {},
   "source": [
    "### Time\n",
    "Measures the execution of a function once.\n",
    "\n",
    "It is not very accurate for short functions. \n",
    "\n",
    "You will want to use timeit most of the time."
   ]
  },
  {
   "cell_type": "code",
   "execution_count": 28,
   "metadata": {},
   "outputs": [
    {
     "name": "stdout",
     "output_type": "stream",
     "text": [
      "Execution Time: 133 µs\r\n"
     ]
    }
   ],
   "source": [
    "time{\n",
    "    var x = 0\n",
    "    for _ in 1..<1000000{\n",
    "        x += 1\n",
    "    }\n",
    "}"
   ]
  },
  {
   "cell_type": "code",
   "execution_count": 29,
   "metadata": {},
   "outputs": [
    {
     "name": "stdout",
     "output_type": "stream",
     "text": [
      "Execution Time: 106.23 µs\r\n"
     ]
    }
   ],
   "source": [
    "time(precision: 5){\n",
    "    var x = 0\n",
    "    for _ in 1..<1000000{\n",
    "        x += 1\n",
    "    }\n",
    "}"
   ]
  },
  {
   "cell_type": "markdown",
   "metadata": {},
   "source": [
    "### Timeit\n",
    "Accurately measures the execution of a function."
   ]
  },
  {
   "cell_type": "code",
   "execution_count": 31,
   "metadata": {},
   "outputs": [
    {
     "name": "stdout",
     "output_type": "stream",
     "text": [
      "93.4 µs ± 324 ns per loop (mean ± std. dev. of 7 runs, 10000 loops each)\r\n"
     ]
    }
   ],
   "source": [
    "timeit{\n",
    "    var x = 0\n",
    "    for _ in 1..<1000000{\n",
    "        x += 1\n",
    "    }\n",
    "}"
   ]
  },
  {
   "cell_type": "code",
   "execution_count": 30,
   "metadata": {},
   "outputs": [
    {
     "name": "stdout",
     "output_type": "stream",
     "text": [
      "102 µs ± 6.12 µs per loop (mean ± std. dev. of 10 runs, 100 loops each)\r\n"
     ]
    }
   ],
   "source": [
    "timeit(loops: 100, repititions: 10){\n",
    "    var x = 0\n",
    "    for _ in 1..<1000000{\n",
    "        x += 1\n",
    "    }\n",
    "}"
   ]
  },
  {
   "cell_type": "code",
   "execution_count": null,
   "metadata": {},
   "outputs": [],
   "source": []
  }
 ],
 "metadata": {
  "kernelspec": {
   "display_name": "Swift",
   "language": "swift",
   "name": "swift"
  },
  "language_info": {
   "file_extension": ".swift",
   "mimetype": "text/x-swift",
   "name": "swift",
   "version": ""
  }
 },
 "nbformat": 4,
 "nbformat_minor": 2
}
